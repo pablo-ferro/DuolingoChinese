{
  "nbformat": 4,
  "nbformat_minor": 0,
  "metadata": {
    "colab": {
      "provenance": []
    },
    "kernelspec": {
      "name": "python3",
      "display_name": "Python 3"
    },
    "language_info": {
      "name": "python"
    }
  },
  "cells": [
    {
      "cell_type": "code",
      "source": [
        "!pip install requests==2.25.1"
      ],
      "metadata": {
        "id": "0g3nX-4gZzIE"
      },
      "execution_count": null,
      "outputs": []
    },
    {
      "cell_type": "code",
      "execution_count": null,
      "metadata": {
        "id": "DmSHhfbmBRQP"
      },
      "outputs": [],
      "source": [
        "pip install duolingo-api\n"
      ]
    },
    {
      "cell_type": "code",
      "source": [
        "import duolingo"
      ],
      "metadata": {
        "id": "SINQyhU9BSrG"
      },
      "execution_count": null,
      "outputs": []
    },
    {
      "cell_type": "code",
      "source": [
        "import requests"
      ],
      "metadata": {
        "id": "Z7lc7RivU7XC"
      },
      "execution_count": null,
      "outputs": []
    },
    {
      "cell_type": "code",
      "source": [
        "requests.__version__"
      ],
      "metadata": {
        "colab": {
          "base_uri": "https://localhost:8080/",
          "height": 35
        },
        "id": "F7J3HKCZa3Uy",
        "outputId": "55551dde-c105-48b6-99d4-52ba9b949a9d"
      },
      "execution_count": null,
      "outputs": [
        {
          "output_type": "execute_result",
          "data": {
            "text/plain": [
              "'2.25.1'"
            ],
            "application/vnd.google.colaboratory.intrinsic+json": {
              "type": "string"
            }
          },
          "metadata": {},
          "execution_count": 17
        }
      ]
    },
    {
      "cell_type": "code",
      "source": [
        "import duolingo\n",
        "import inspect\n",
        "\n",
        "source = inspect.getsource(duolingo)\n",
        "new_source = source.replace('jwt=None', 'jwt')\n",
        "new_source = source.replace('self.jwt = None', ' ')\n",
        "exec(new_source, duolingo.__dict__)\n",
        "\n"
      ],
      "metadata": {
        "id": "vqZQZ5WQa6j8"
      },
      "execution_count": null,
      "outputs": []
    },
    {
      "cell_type": "code",
      "source": [
        "lingo  = duolingo.Duolingo(username='bar', jwt='foo')"
      ],
      "metadata": {
        "id": "fIPictAs1svP"
      },
      "execution_count": null,
      "outputs": []
    },
    {
      "cell_type": "code",
      "source": [
        "lingo.get_user_info()"
      ],
      "metadata": {
        "id": "K0bwkd_HFcu1"
      },
      "execution_count": null,
      "outputs": []
    },
    {
      "cell_type": "code",
      "source": [
        "lingo.get_streak_info()"
      ],
      "metadata": {
        "colab": {
          "base_uri": "https://localhost:8080/"
        },
        "id": "JiqfxRMIGnDH",
        "outputId": "630936ca-ae45-4bde-f6b2-7273e74254ad"
      },
      "execution_count": null,
      "outputs": [
        {
          "output_type": "execute_result",
          "data": {
            "text/plain": [
              "{'daily_goal': 10, 'site_streak': 289, 'streak_extended_today': False}"
            ]
          },
          "metadata": {},
          "execution_count": 29
        }
      ]
    },
    {
      "cell_type": "code",
      "source": [
        "lingo.get_languages(abbreviations=True)"
      ],
      "metadata": {
        "colab": {
          "base_uri": "https://localhost:8080/"
        },
        "id": "B1TSgGOuG6vC",
        "outputId": "93b6df0a-ed40-4f8c-a8a4-e6cfb9546ee6"
      },
      "execution_count": null,
      "outputs": [
        {
          "output_type": "execute_result",
          "data": {
            "text/plain": [
              "['it', 'zs']"
            ]
          },
          "metadata": {},
          "execution_count": 30
        }
      ]
    },
    {
      "cell_type": "code",
      "source": [
        "lingo.get_known_topics('zs')\n",
        "\n"
      ],
      "metadata": {
        "colab": {
          "base_uri": "https://localhost:8080/"
        },
        "id": "rbNxP6sQH8jk",
        "outputId": "d1e78f44-f2ff-48d1-8fb1-a98ee40e4ac4"
      },
      "execution_count": null,
      "outputs": [
        {
          "output_type": "execute_result",
          "data": {
            "text/plain": [
              "['Drink',\n",
              " 'Phrases 2',\n",
              " 'Numbers',\n",
              " 'Occupation',\n",
              " 'Greeting 3',\n",
              " 'Phrases 1',\n",
              " 'Nationality',\n",
              " 'Location 2',\n",
              " 'Daily Routine 1',\n",
              " 'People 1',\n",
              " 'Telephone',\n",
              " 'Location 3',\n",
              " 'Greeting 1',\n",
              " 'Contact',\n",
              " 'Time 1',\n",
              " 'Name',\n",
              " 'Greeting 4',\n",
              " 'Location 1',\n",
              " 'Family 1',\n",
              " 'Greeting 2',\n",
              " 'Time 2',\n",
              " 'Hobbies 1',\n",
              " 'Food 1',\n",
              " 'Family 2']"
            ]
          },
          "metadata": {},
          "execution_count": 31
        }
      ]
    },
    {
      "cell_type": "code",
      "source": [
        "lingo.get_unknown_topics('zs')\n",
        "\n"
      ],
      "metadata": {
        "colab": {
          "base_uri": "https://localhost:8080/"
        },
        "id": "cQDGsdzjIFhT",
        "outputId": "1c88b10c-0244-40f0-9ec5-b268a1d722ce"
      },
      "execution_count": null,
      "outputs": [
        {
          "output_type": "execute_result",
          "data": {
            "text/plain": [
              "['Future',\n",
              " 'Hobbies 2',\n",
              " 'Dining 1',\n",
              " 'Supermarket',\n",
              " 'Travel',\n",
              " 'Work 3',\n",
              " 'Invitiation 1',\n",
              " 'Duo',\n",
              " 'Shopping 4',\n",
              " 'Environment',\n",
              " 'Body Parts',\n",
              " 'Sports 2',\n",
              " 'Hobbies 3',\n",
              " 'Internet Slang',\n",
              " 'Gourmet 2',\n",
              " 'Family 3',\n",
              " 'Exam',\n",
              " 'Location 6',\n",
              " 'Travel 3',\n",
              " 'Communication 2',\n",
              " 'Time 3',\n",
              " 'Invitation 2',\n",
              " 'Time 4',\n",
              " 'Festivals',\n",
              " 'Gourmet 1',\n",
              " 'Daily Routine 2',\n",
              " 'Food 3',\n",
              " 'House',\n",
              " 'Celebration',\n",
              " 'Work 2',\n",
              " 'Languages 3',\n",
              " 'Existence',\n",
              " 'Shopping 1',\n",
              " 'Sports 1',\n",
              " 'Shopping 2',\n",
              " 'People 2',\n",
              " 'Shopping 3',\n",
              " 'Health 3',\n",
              " 'Business 2',\n",
              " 'Location 4',\n",
              " 'Travel 2',\n",
              " 'Languages',\n",
              " 'Languages 2',\n",
              " 'Weather',\n",
              " 'Location 5',\n",
              " 'Personality and Feelings',\n",
              " 'Dining 2',\n",
              " 'Culture',\n",
              " 'Travel 4',\n",
              " 'Emergency',\n",
              " 'Payment',\n",
              " 'Entertainment',\n",
              " 'Weather 2',\n",
              " 'Health 2',\n",
              " 'Business 1',\n",
              " 'Work',\n",
              " 'Dining 3',\n",
              " 'Transportation',\n",
              " 'Health 1',\n",
              " 'Daily Routine 3',\n",
              " 'People 3',\n",
              " 'School 2',\n",
              " 'Restaurant',\n",
              " 'School']"
            ]
          },
          "metadata": {},
          "execution_count": 32
        }
      ]
    },
    {
      "cell_type": "code",
      "source": [
        "lingo.get_known_words('zs')"
      ],
      "metadata": {
        "colab": {
          "base_uri": "https://localhost:8080/"
        },
        "id": "F53QRBLIIOgf",
        "outputId": "bde9176d-9903-4408-a518-eec56f19d5d5"
      },
      "execution_count": null,
      "outputs": [
        {
          "output_type": "execute_result",
          "data": {
            "text/plain": [
              "['叫',\n",
              " '家',\n",
              " '吗',\n",
              " '男',\n",
              " '上午',\n",
              " '热',\n",
              " '床',\n",
              " '高',\n",
              " '我们',\n",
              " '茶',\n",
              " '两',\n",
              " '气',\n",
              " '零',\n",
              " '字',\n",
              " '子',\n",
              " '会',\n",
              " '八',\n",
              " '那儿',\n",
              " '百',\n",
              " '名',\n",
              " '九',\n",
              " '妈',\n",
              " '晚',\n",
              " '年',\n",
              " '孩',\n",
              " '客',\n",
              " '矮',\n",
              " '好久不见',\n",
              " '早上',\n",
              " '认识',\n",
              " '少',\n",
              " '喜',\n",
              " '元',\n",
              " '这儿',\n",
              " '李',\n",
              " '每',\n",
              " '中',\n",
              " '说',\n",
              " '朋',\n",
              " '洗手间',\n",
              " '前面',\n",
              " '生',\n",
              " '电话',\n",
              " '喜欢',\n",
              " '京',\n",
              " '朋友',\n",
              " '兴',\n",
              " '周末',\n",
              " '午',\n",
              " '英',\n",
              " '码',\n",
              " '高兴',\n",
              " '右',\n",
              " '洗',\n",
              " '漂',\n",
              " '请',\n",
              " '三',\n",
              " '北京',\n",
              " '饭馆',\n",
              " '哪儿',\n",
              " '月',\n",
              " '不',\n",
              " '名字',\n",
              " '早安',\n",
              " '左边',\n",
              " '上',\n",
              " '对不起',\n",
              " '十',\n",
              " '学校',\n",
              " '怎',\n",
              " '话',\n",
              " '咖',\n",
              " '要',\n",
              " '妈妈',\n",
              " '在',\n",
              " '知道',\n",
              " '谢',\n",
              " '国',\n",
              " '左',\n",
              " '上班',\n",
              " '汉',\n",
              " '手',\n",
              " '忙',\n",
              " '爱',\n",
              " '女儿',\n",
              " '早饭',\n",
              " '号',\n",
              " '日',\n",
              " '白',\n",
              " '儿子',\n",
              " '女',\n",
              " '请问',\n",
              " '边',\n",
              " '咖啡',\n",
              " '纽约',\n",
              " '明',\n",
              " '吃',\n",
              " '间',\n",
              " '学生',\n",
              " '北',\n",
              " '爸',\n",
              " '牛',\n",
              " '中国',\n",
              " '漂亮',\n",
              " '不错',\n",
              " '谁',\n",
              " '上学',\n",
              " '这',\n",
              " '天',\n",
              " '饭',\n",
              " '友',\n",
              " '院',\n",
              " '喝',\n",
              " '孩子',\n",
              " '妻子',\n",
              " '见',\n",
              " '什么',\n",
              " '得',\n",
              " '英语',\n",
              " '鱼',\n",
              " '怎么样',\n",
              " '分',\n",
              " '多',\n",
              " '很',\n",
              " '那',\n",
              " '快',\n",
              " '一点儿',\n",
              " '班',\n",
              " '牛奶',\n",
              " '我',\n",
              " '右边',\n",
              " '道',\n",
              " '哪',\n",
              " '起',\n",
              " '号码',\n",
              " '是',\n",
              " '的',\n",
              " '英国',\n",
              " '几',\n",
              " '汉语',\n",
              " '美国',\n",
              " '旁',\n",
              " '冰',\n",
              " '没关系',\n",
              " '知',\n",
              " '学',\n",
              " '水',\n",
              " '从',\n",
              " '晚上',\n",
              " '美',\n",
              " '旁边',\n",
              " '五',\n",
              " '他',\n",
              " '下午',\n",
              " '今',\n",
              " '做',\n",
              " '都',\n",
              " '样',\n",
              " '喂',\n",
              " '多少',\n",
              " '关',\n",
              " '家人',\n",
              " '欢',\n",
              " '好',\n",
              " '奶',\n",
              " '爸爸',\n",
              " '也',\n",
              " '明白',\n",
              " '一会儿',\n",
              " '儿',\n",
              " '起床',\n",
              " '问',\n",
              " '认',\n",
              " '个',\n",
              " '七',\n",
              " '一',\n",
              " '最',\n",
              " '再',\n",
              " '华',\n",
              " '馆',\n",
              " '他们',\n",
              " '早',\n",
              " '没',\n",
              " '面',\n",
              " '人',\n",
              " '中午',\n",
              " '游戏',\n",
              " '电',\n",
              " '啡',\n",
              " '再见',\n",
              " '不客气',\n",
              " '星期',\n",
              " '纽',\n",
              " '下',\n",
              " '张',\n",
              " '书',\n",
              " '识',\n",
              " '慢',\n",
              " '星',\n",
              " '安',\n",
              " '你',\n",
              " '玩',\n",
              " '后面',\n",
              " '看',\n",
              " '睡觉',\n",
              " '谢谢',\n",
              " '最近',\n",
              " '今天',\n",
              " '香港',\n",
              " '岁',\n",
              " '〇',\n",
              " '电脑',\n",
              " '你们',\n",
              " '她',\n",
              " '明天',\n",
              " '亮',\n",
              " '晚安',\n",
              " '医院']"
            ]
          },
          "metadata": {},
          "execution_count": 33
        }
      ]
    },
    {
      "cell_type": "code",
      "source": [
        "lingo.get_vocabulary('zs')"
      ],
      "metadata": {
        "id": "vJw-FdaZJLR1"
      },
      "execution_count": null,
      "outputs": []
    },
    {
      "cell_type": "code",
      "source": [
        "vocab_dict = lingo.get_vocabulary('zs')"
      ],
      "metadata": {
        "id": "AmbGjDGmJ2Yw"
      },
      "execution_count": null,
      "outputs": []
    },
    {
      "cell_type": "code",
      "source": [
        "print(vocab_dict)"
      ],
      "metadata": {
        "id": "mRIqRe47LGSp"
      },
      "execution_count": null,
      "outputs": []
    }
  ]
}